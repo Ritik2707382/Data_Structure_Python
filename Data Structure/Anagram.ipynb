{
  "nbformat": 4,
  "nbformat_minor": 0,
  "metadata": {
    "colab": {
      "provenance": []
    },
    "kernelspec": {
      "name": "python3",
      "display_name": "Python 3"
    },
    "language_info": {
      "name": "python"
    }
  },
  "cells": [
    {
      "cell_type": "code",
      "execution_count": 5,
      "metadata": {
        "colab": {
          "base_uri": "https://localhost:8080/"
        },
        "id": "p1bEg44cigDi",
        "outputId": "29284718-edd0-4550-a70c-b50e1385a3a9"
      },
      "outputs": [
        {
          "output_type": "stream",
          "name": "stdout",
          "text": [
            "String1 before Sorting: abcd\n",
            "String2 before Sorting: dbac\n",
            "String1 after Sorting: abcd\n",
            "String2 after Sorting: abcd\n",
            "Given strings are Anagram\n"
          ]
        }
      ],
      "source": [
        "str1=\"abcd\"\n",
        "print(\"String1 before Sorting:\",str1)\n",
        "str2=\"dbac\"\n",
        "print(\"String2 before Sorting:\",str2)\n",
        "str1=''.join(sorted(str1))\n",
        "print(\"String1 after Sorting:\",str1)\n",
        "str2=''.join(sorted(str2))\n",
        "print(\"String2 after Sorting:\",str2)\n",
        "if str1==str2:\n",
        "  print(\"Given strings are Anagram\")\n",
        "else:\n",
        "  print(\"Given Strings are not Anagram\")"
      ]
    }
  ]
}