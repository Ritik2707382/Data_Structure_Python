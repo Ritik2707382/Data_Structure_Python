{
  "nbformat": 4,
  "nbformat_minor": 0,
  "metadata": {
    "colab": {
      "provenance": []
    },
    "kernelspec": {
      "name": "python3",
      "display_name": "Python 3"
    },
    "language_info": {
      "name": "python"
    }
  },
  "cells": [
    {
      "cell_type": "code",
      "execution_count": 10,
      "metadata": {
        "colab": {
          "base_uri": "https://localhost:8080/"
        },
        "id": "3vA1AbjyfARu",
        "outputId": "53969caf-64a2-4d61-bae4-ebe40e05b21b"
      },
      "outputs": [
        {
          "output_type": "stream",
          "name": "stdout",
          "text": [
            "Middle Value of List 3\n",
            "Middle Value of List 5\n",
            "Middle Value of List 4\n",
            "Element is present at index 4\n"
          ]
        }
      ],
      "source": [
        "def binary_search(list1,a):\n",
        "  low=0\n",
        "  high=len(list1)-1\n",
        "  while low<=high:\n",
        "    mid=(low+high)//2\n",
        "    print(\"Middle Value of List\",mid)\n",
        "    if list1[mid]<a:\n",
        "      low=mid+1\n",
        "    elif list1[mid]>a:\n",
        "      high=mid-1\n",
        "    else:\n",
        "      return mid\n",
        "  return -1\n",
        "list1=[4,5,10,20,26,30,40]\n",
        "a=26\n",
        "r=binary_search(list1,a)\n",
        "if r!=-1:\n",
        "  print(\"Element is present at index\",r)\n",
        "else:\n",
        "  print(\"Element is not present in list1\")"
      ]
    }
  ]
}