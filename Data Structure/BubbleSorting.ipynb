{
  "nbformat": 4,
  "nbformat_minor": 0,
  "metadata": {
    "colab": {
      "provenance": []
    },
    "kernelspec": {
      "name": "python3",
      "display_name": "Python 3"
    },
    "language_info": {
      "name": "python"
    }
  },
  "cells": [
    {
      "cell_type": "code",
      "execution_count": 34,
      "metadata": {
        "colab": {
          "base_uri": "https://localhost:8080/"
        },
        "id": "amWl3fszqEqC",
        "outputId": "ad4fafc9-5256-4c13-95d6-c22f7ad4c175"
      },
      "outputs": [
        {
          "output_type": "stream",
          "name": "stdout",
          "text": [
            "Unsorted List Before Applying Bubble Sorting: [4, 5, 8, 2, 7, 1]\n",
            "Sorted List After Applying Bubble Sorting: [1, 2, 4, 5, 7, 8]\n"
          ]
        }
      ],
      "source": [
        "list1=[4,5,8,2,7,1]\n",
        "print(\"Unsorted List Before Applying Bubble Sorting:\",list1)\n",
        "for i in range(0,len(list1)):\n",
        "  for i in range(len(list1)-1):\n",
        "    if list1[i]>list1[i+1]:\n",
        "      t=list1[i]\n",
        "      list1[i]=list1[i+1]\n",
        "      list1[i+1]=t\n",
        "print(\"Sorted List After Applying Bubble Sorting:\",list1)"
      ]
    }
  ]
}