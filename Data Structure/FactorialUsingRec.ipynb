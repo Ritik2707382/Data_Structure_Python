{
  "nbformat": 4,
  "nbformat_minor": 0,
  "metadata": {
    "colab": {
      "provenance": []
    },
    "kernelspec": {
      "name": "python3",
      "display_name": "Python 3"
    },
    "language_info": {
      "name": "python"
    }
  },
  "cells": [
    {
      "cell_type": "code",
      "execution_count": 4,
      "metadata": {
        "id": "huJbKYl6sCQB",
        "colab": {
          "base_uri": "https://localhost:8080/"
        },
        "outputId": "e6121ee6-9557-4f89-9f81-f9e57006c4c9"
      },
      "outputs": [
        {
          "output_type": "stream",
          "name": "stdout",
          "text": [
            "The factorial of 6 is: 720\n"
          ]
        }
      ],
      "source": [
        "def fact(n):\n",
        "  if (n==0 or n==1):\n",
        "    return 1\n",
        "  else:\n",
        "    return n*fact(n-1)\n",
        "num=6\n",
        "print(\"The factorial of\",num,\"is:\",fact(num))"
      ]
    }
  ]
}