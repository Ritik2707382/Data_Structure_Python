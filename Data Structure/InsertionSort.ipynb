{
  "nbformat": 4,
  "nbformat_minor": 0,
  "metadata": {
    "colab": {
      "provenance": []
    },
    "kernelspec": {
      "name": "python3",
      "display_name": "Python 3"
    },
    "language_info": {
      "name": "python"
    }
  },
  "cells": [
    {
      "cell_type": "code",
      "execution_count": 18,
      "metadata": {
        "colab": {
          "base_uri": "https://localhost:8080/"
        },
        "id": "iTaO5-XA2N8n",
        "outputId": "81736d87-3a43-4bd0-e92d-84f105b762d3"
      },
      "outputs": [
        {
          "output_type": "stream",
          "name": "stdout",
          "text": [
            "The Unsorted List is: [9, 5, 1, 4, 3]\n",
            "The Sorted List is: [1, 3, 4, 5, 9]\n"
          ]
        }
      ],
      "source": [
        "list1=[9,5,1,4,3]\n",
        "print(\"The Unsorted List is:\",list1)\n",
        "for i in range(1,len(list1)):\n",
        "  value=list1[i]\n",
        "  # print(value,end=\"\")\n",
        "  j=i-1\n",
        "  # print(j)\n",
        "  while j >= 0 and value < list1[j]:\n",
        "    list1[j+1]=list1[j]\n",
        "    j=j-1\n",
        "  list1[j+1]=value\n",
        "print(\"The Sorted List is:\",list1)"
      ]
    }
  ]
}