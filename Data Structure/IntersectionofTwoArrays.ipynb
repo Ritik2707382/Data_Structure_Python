{
  "nbformat": 4,
  "nbformat_minor": 0,
  "metadata": {
    "colab": {
      "provenance": []
    },
    "kernelspec": {
      "name": "python3",
      "display_name": "Python 3"
    },
    "language_info": {
      "name": "python"
    }
  },
  "cells": [
    {
      "cell_type": "code",
      "execution_count": 1,
      "metadata": {
        "colab": {
          "base_uri": "https://localhost:8080/"
        },
        "id": "Gq6Kh5gDvBUA",
        "outputId": "10cc5dd7-eabc-408e-ae91-0bae7ec42d99"
      },
      "outputs": [
        {
          "output_type": "stream",
          "name": "stdout",
          "text": [
            "Intersection of Two Lists: [1, 2, 3]\n"
          ]
        }
      ],
      "source": [
        "list1=[1,2,3,9,7]\n",
        "list2=[1,2,3,10,4]\n",
        "set1=set(list1)\n",
        "set2=set(list2)\n",
        "list3=list(set1.intersection(set2))\n",
        "print(\"Intersection of Two Lists:\",list3)"
      ]
    }
  ]
}