{
  "nbformat": 4,
  "nbformat_minor": 0,
  "metadata": {
    "colab": {
      "provenance": []
    },
    "kernelspec": {
      "name": "python3",
      "display_name": "Python 3"
    },
    "language_info": {
      "name": "python"
    }
  },
  "cells": [
    {
      "cell_type": "code",
      "execution_count": 45,
      "metadata": {
        "colab": {
          "base_uri": "https://localhost:8080/"
        },
        "id": "MUrDpDRQueB7",
        "outputId": "eac7d6ca-c0cd-4bcc-9b34-9f4ea3bc95f8"
      },
      "outputs": [
        {
          "output_type": "stream",
          "name": "stdout",
          "text": [
            "The Sorted List in Merge Sort: [7, 20, 24, 30, 38, 40]\n"
          ]
        }
      ],
      "source": [
        "def merge_sort(list1):\n",
        "  if len(list1)>1:\n",
        "   mid=len(list1)//2\n",
        "   left=list1[:mid]\n",
        "   left.sort()\n",
        "   right=list1[mid:]\n",
        "   right.sort()\n",
        "   i=j=k=0\n",
        "  while i<len(left) and j<len(right):\n",
        "    if left[i]<right[j]:\n",
        "      list1[k]=left[i]\n",
        "      i=i+1\n",
        "    else:\n",
        "      list1[k]=right[j]\n",
        "      j=j+1\n",
        "    k=k+1\n",
        "  while i<len(left):\n",
        "    list1[k]=left[i]\n",
        "    i=i+1\n",
        "    k=k+1\n",
        "  while j<len(right):\n",
        "    list1[k]=right[j]\n",
        "    j=j+1\n",
        "    k=k+1\n",
        "  return list1\n",
        "list1=[38,24,20,40,7,30]\n",
        "s=merge_sort(list1)\n",
        "print(\"The Sorted List in Merge Sort:\",s)"
      ]
    }
  ]
}