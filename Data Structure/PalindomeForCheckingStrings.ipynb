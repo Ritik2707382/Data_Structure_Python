{
  "nbformat": 4,
  "nbformat_minor": 0,
  "metadata": {
    "colab": {
      "provenance": []
    },
    "kernelspec": {
      "name": "python3",
      "display_name": "Python 3"
    },
    "language_info": {
      "name": "python"
    }
  },
  "cells": [
    {
      "cell_type": "code",
      "execution_count": 3,
      "metadata": {
        "colab": {
          "base_uri": "https://localhost:8080/"
        },
        "id": "ZT8DlhEctlp-",
        "outputId": "0495cbe1-0297-4501-ce61-8b3b96d745cc"
      },
      "outputs": [
        {
          "output_type": "stream",
          "name": "stdout",
          "text": [
            "a\n",
            "ba\n",
            "cba\n",
            "bcba\n",
            "abcba\n",
            "Both the Strings are Palindrome\n"
          ]
        }
      ],
      "source": [
        "str1=\"abcba\"\n",
        "str2=\"\"\n",
        "for i in str1:\n",
        "  str2=i+str2\n",
        "  print(str2)\n",
        "if (str1==str2):\n",
        "  print(\"Both the Strings are Palindrome\")\n",
        "else:\n",
        "  print(\"Both the Strings are not Palindrome\")"
      ]
    }
  ]
}