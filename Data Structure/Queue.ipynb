{
  "nbformat": 4,
  "nbformat_minor": 0,
  "metadata": {
    "colab": {
      "provenance": []
    },
    "kernelspec": {
      "name": "python3",
      "display_name": "Python 3"
    },
    "language_info": {
      "name": "python"
    }
  },
  "cells": [
    {
      "cell_type": "code",
      "execution_count": 1,
      "metadata": {
        "colab": {
          "base_uri": "https://localhost:8080/"
        },
        "id": "1I9f1GA91WQv",
        "outputId": "ac525dfd-37c1-4242-eec3-df8410c6268f"
      },
      "outputs": [
        {
          "output_type": "stream",
          "name": "stdout",
          "text": [
            "Items Appended in Queue are: [5]\n",
            "Items Appended in Queue are: [5, 6]\n",
            "Items Appended in Queue are: [5, 6, 7]\n",
            "Queue is not Empty\n",
            "Items After Popping in Queue are: [6, 7]\n",
            "Queue is not Empty\n"
          ]
        }
      ],
      "source": [
        "class Queue:\n",
        "  def __init__(self):\n",
        "    self.items=[]\n",
        "  def Enqueue(self,item):\n",
        "    self.items.append(item)\n",
        "    print(\"Items Appended in Queue are:\",self.items)\n",
        "  def Dequeue(self):\n",
        "    if not self.is_empty():\n",
        "      self.items.pop(0)\n",
        "      print(\"Items After Popping in Queue are:\",self.items)\n",
        "    else:\n",
        "      print(\"No Item cannot be popped from empty queue\")\n",
        "  def is_empty(self):\n",
        "    if len(self.items)==0:\n",
        "      print(\"Queue is Empty\")\n",
        "    else:\n",
        "      print(\"Queue is not Empty\")\n",
        "q1=Queue()\n",
        "q1.Enqueue(5)\n",
        "q1.Enqueue(6)\n",
        "q1.Enqueue(7)\n",
        "q1.Dequeue()\n",
        "q1.is_empty()"
      ]
    }
  ]
}