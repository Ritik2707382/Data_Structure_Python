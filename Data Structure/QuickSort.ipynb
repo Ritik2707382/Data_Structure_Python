{
  "nbformat": 4,
  "nbformat_minor": 0,
  "metadata": {
    "colab": {
      "provenance": []
    },
    "kernelspec": {
      "name": "python3",
      "display_name": "Python 3"
    },
    "language_info": {
      "name": "python"
    }
  },
  "cells": [
    {
      "cell_type": "code",
      "execution_count": 18,
      "metadata": {
        "colab": {
          "base_uri": "https://localhost:8080/"
        },
        "id": "4FxHES6ph75Q",
        "outputId": "761abc2a-2fd3-48f3-8d66-bcd13ca3d9df"
      },
      "outputs": [
        {
          "output_type": "stream",
          "name": "stdout",
          "text": [
            "UnSorted List Before Applying Quick Sort: [10, 15, 14, 2, 5, 4, 7]\n",
            "The Sorted List in Quick Sort are: [2, 4, 5, 7, 10, 14, 15]\n"
          ]
        }
      ],
      "source": [
        "def quick_sort(list1):\n",
        "  if len(list1)<=1:\n",
        "    return list1\n",
        "  pivot=list1[-1]\n",
        "  left=[]\n",
        "  right=[]\n",
        "  for i in range(len(list1)-1):\n",
        "    if list1[i]<pivot:\n",
        "      left.append(list1[i])\n",
        "    else:\n",
        "      right.append(list1[i])\n",
        "  return quick_sort(left) + [pivot] + quick_sort(right)\n",
        "list1=[10,15,14,2,5,4,7]\n",
        "print(\"UnSorted List Before Applying Quick Sort:\",list1)\n",
        "s=quick_sort(list1)\n",
        "print(\"The Sorted List in Quick Sort are:\",s)"
      ]
    }
  ]
}