{
  "nbformat": 4,
  "nbformat_minor": 0,
  "metadata": {
    "colab": {
      "provenance": []
    },
    "kernelspec": {
      "name": "python3",
      "display_name": "Python 3"
    },
    "language_info": {
      "name": "python"
    }
  },
  "cells": [
    {
      "cell_type": "code",
      "source": [
        "my_random=[10,5,6,8,12,4,2,1]\n",
        "for i in range(len(my_random)):\n",
        "  swap_index=0\n",
        "  minimum=99999\n",
        "  for k in range(i,len(my_random)):\n",
        "    if minimum>my_random[k]:\n",
        "      minimum=my_random[k]\n",
        "      swap_index=k\n",
        "  initial_value=my_random[i]\n",
        "  my_random[i]=minimum\n",
        "  my_random[swap_index]=initial_value\n",
        "print(my_random)"
      ],
      "metadata": {
        "colab": {
          "base_uri": "https://localhost:8080/"
        },
        "id": "FusFNMhAEFgd",
        "outputId": "815105a6-658b-4520-9c8d-c3c5e670118c"
      },
      "execution_count": 91,
      "outputs": [
        {
          "output_type": "stream",
          "name": "stdout",
          "text": [
            "[1, 2, 4, 5, 6, 8, 10, 12]\n"
          ]
        }
      ]
    }
  ]
}