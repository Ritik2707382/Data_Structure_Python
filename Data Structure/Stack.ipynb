{
  "nbformat": 4,
  "nbformat_minor": 0,
  "metadata": {
    "colab": {
      "provenance": []
    },
    "kernelspec": {
      "name": "python3",
      "display_name": "Python 3"
    },
    "language_info": {
      "name": "python"
    }
  },
  "cells": [
    {
      "cell_type": "code",
      "execution_count": 2,
      "metadata": {
        "colab": {
          "base_uri": "https://localhost:8080/"
        },
        "id": "SfMuEGFmVr7A",
        "outputId": "be479f2a-a248-47c6-8be4-76ad0cf99d2d"
      },
      "outputs": [
        {
          "output_type": "stream",
          "name": "stdout",
          "text": [
            "Items Pushed in Stack: [4]\n",
            "Items Pushed in Stack: [4, 5]\n",
            "Items Pushed in Stack: [4, 5, 6]\n",
            "Stack is Not Empty\n",
            "Items After the Pop of Stack: [4, 5]\n"
          ]
        }
      ],
      "source": [
        "class Stack:\n",
        "  def __init__(self):\n",
        "    self.items=[]\n",
        "  def push(self,item):\n",
        "    self.items.append(item)\n",
        "    print(\"Items Pushed in Stack:\",self.items)\n",
        "  def pop(self):\n",
        "    if not self.is_empty():\n",
        "      self.items.pop()\n",
        "      print(\"Items After the Pop of Stack:\",self.items)\n",
        "    else:\n",
        "      print(\"No elements can be popped from Empty Stack\")\n",
        "  def is_empty(self):\n",
        "    if len(self.items)==0:\n",
        "      print(\"Stack is Empty\")\n",
        "    else:\n",
        "      print(\"Stack is Not Empty\")\n",
        "s1=Stack()\n",
        "s1.push(4)\n",
        "s1.push(5)\n",
        "s1.push(6)\n",
        "s1.pop()"
      ]
    }
  ]
}